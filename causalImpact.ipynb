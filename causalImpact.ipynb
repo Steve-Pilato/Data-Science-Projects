{
 "cells": [
  {
   "cell_type": "raw",
   "id": "51cb9202",
   "metadata": {},
   "source": [
    "---\n",
    "title: \"Causal Impact Analysis\"\n",
    "author: \"Steven Pilato\"\n",
    "date: '2022-10-10'\n",
    "output: html_document\n",
    "---"
   ]
  },
  {
   "cell_type": "code",
   "execution_count": null,
   "id": "d6b6b8ea",
   "metadata": {},
   "outputs": [],
   "source": [
    "suppressPackageStartupMessages(library(CausalImpact))"
   ]
  },
  {
   "cell_type": "markdown",
   "id": "1287d610",
   "metadata": {},
   "source": [
    "#"
   ]
  },
  {
   "cell_type": "code",
   "execution_count": null,
   "id": "f04f325a",
   "metadata": {
    "lines_to_next_cell": 0
   },
   "outputs": [],
   "source": [
    "x <- arima.sim(model = list(ma = .8), n = 100)\n",
    "x[50:100] <- x[50:100]  + 5\n",
    "plot(x, lwd = 1.5, main = 'Simulated Data')\n",
    "df <- data.frame(x = x)\n"
   ]
  },
  {
   "cell_type": "markdown",
   "id": "415b04c4",
   "metadata": {},
   "source": [
    "# "
   ]
  },
  {
   "cell_type": "code",
   "execution_count": null,
   "id": "1615853e",
   "metadata": {},
   "outputs": [],
   "source": [
    "pre.period <- c(1, 49)\n",
    "post.period <- c(50, 100)\n",
    "impact <- CausalImpact(df, pre.period, post.period)\n",
    "plot(impact)\n"
   ]
  },
  {
   "cell_type": "code",
   "execution_count": null,
   "id": "f9953dd7",
   "metadata": {
    "lines_to_next_cell": 0
   },
   "outputs": [],
   "source": [
    "\n",
    "summary(impact, 'report')\n",
    "\n"
   ]
  },
  {
   "cell_type": "markdown",
   "id": "15f944ac",
   "metadata": {},
   "source": [
    "\n"
   ]
  }
 ],
 "metadata": {
  "jupytext": {
   "cell_metadata_filter": "-all",
   "main_language": "R",
   "notebook_metadata_filter": "-all"
  }
 },
 "nbformat": 4,
 "nbformat_minor": 5
}
